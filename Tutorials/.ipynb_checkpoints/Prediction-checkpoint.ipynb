{
 "cells": [
  {
   "cell_type": "markdown",
   "metadata": {},
   "source": [
    "# Prediction on real data"
   ]
  },
  {
   "cell_type": "markdown",
   "metadata": {},
   "source": [
    "After having trained models, our ultimate goal is to scan genomic regions to see if they are under selection, and if so, what type of selection. In this short tutorial, you will learn how to use trained models to scan genomic regions.\n",
    "\n",
    "First of all, we should import BaSe module:"
   ]
  },
  {
   "cell_type": "code",
   "execution_count": 1,
   "metadata": {},
   "outputs": [
    {
     "name": "stderr",
     "output_type": "stream",
     "text": [
      "Using TensorFlow backend.\n"
     ]
    }
   ],
   "source": [
    "%run -i ../BaSe/Preprocess.py\n",
    "%run -i ../BaSe/Model.py"
   ]
  },
  {
   "cell_type": "markdown",
   "metadata": {},
   "source": [
    "Next, we should load the vcf file. To do so, we can use `VCF()`:"
   ]
  },
  {
   "cell_type": "code",
   "execution_count": 2,
   "metadata": {},
   "outputs": [],
   "source": [
    "file_name = \"/Users/ulas/Projects/balancing_selection/Data/VCFs/test.vcf\"\n",
    "\n",
    "vcf = VCF(file_name)"
   ]
  },
  {
   "cell_type": "markdown",
   "metadata": {},
   "source": [
    "### 1. Create summary statistics and predict by using trained ANN model\n",
    "\n",
    "In order to use trained ANN model to predict selection, we should first calculate summary statistics. `create_stat()` is an convient function that scans the given region for candidate targets and calculates summary statistics for each target. It accepts following arguments:\n",
    "* __N__: Length of the sequence (should be same as the simulated sequence length)\n",
    "* __target_freq__: A tuple specifying the frequency range for targets.\n",
    "* __target_list__: A list of target SNPs. If None, scans the target region for all candidate targets.\n",
    "* __target_range__: A tuple specifying the target range of positions. If None, scans all the positions.\n",
    "* __scale__: If True, performs feature scaling. \n",
    "* __pca__: If True, performs pca."
   ]
  },
  {
   "cell_type": "code",
   "execution_count": 3,
   "metadata": {},
   "outputs": [
    {
     "name": "stdout",
     "output_type": "stream",
     "text": [
      "4 candidate targets have been found.\n"
     ]
    }
   ],
   "source": [
    "stat_matrix, snps = vcf.create_stat(N=50000, target_freq=(0.4,0.6), target_list=None, \n",
    "                                 target_range=None, scale=True, pca=False)"
   ]
  },
  {
   "cell_type": "markdown",
   "metadata": {},
   "source": [
    "Here, we can print the IDs of candidate SNPs:"
   ]
  },
  {
   "cell_type": "code",
   "execution_count": 4,
   "metadata": {},
   "outputs": [
    {
     "name": "stdout",
     "output_type": "stream",
     "text": [
      "['rs7225123' 'rs4890183' 'rs1609550' 'rs1109995']\n"
     ]
    }
   ],
   "source": [
    "print(snps)"
   ]
  },
  {
   "cell_type": "markdown",
   "metadata": {},
   "source": [
    "In this example, our input data (test.vcf) is obtained from 1000 Genomes and contains variation information for first 80kb of the chromosome 17. Here, we want to scan the whole region for target SNPs. Since our simulations were conditioned on a final allele frequency range of 0.4 and 0.6, we use the same target frequency range here. Furthermore, we should use exactly the same preprocessing steps as used for training data. Since we performed feature scaling but not pca on training data (see ANN_training python notebook), here we also perform only feature scaling. This function returns a matrix containing summary statistic values for target SNPs and a list of target SNPs found.\n",
    "\n",
    "Now, to perform prediction, we can use `predict()` function. It requires following arguments:\n",
    "\n",
    "* __x__: The input data.\n",
    "* __model__: Full path to the trained model.\n",
    "* __labels__: Labels of target SNPs.\n",
    "* __test__: Test number.\n"
   ]
  },
  {
   "cell_type": "code",
   "execution_count": 6,
   "metadata": {},
   "outputs": [],
   "source": [
    "ann_model = \"/Users/ulas/Projects/balancing_selection/Data/Model/ANN_model_recent_1.h5\"\n",
    "\n",
    "results_ann_recent_1 = predict(stat_matrix, ann_model, labels=snps, test=1)"
   ]
  },
  {
   "cell_type": "markdown",
   "metadata": {},
   "source": [
    "The output is a pandas DataFrame with three columns: the first column contains the SNP ID, the second column contains the prediction value (probability), and the third column contains the predicted class."
   ]
  },
  {
   "cell_type": "code",
   "execution_count": 7,
   "metadata": {},
   "outputs": [
    {
     "data": {
      "text/html": [
       "<div>\n",
       "<style scoped>\n",
       "    .dataframe tbody tr th:only-of-type {\n",
       "        vertical-align: middle;\n",
       "    }\n",
       "\n",
       "    .dataframe tbody tr th {\n",
       "        vertical-align: top;\n",
       "    }\n",
       "\n",
       "    .dataframe thead th {\n",
       "        text-align: right;\n",
       "    }\n",
       "</style>\n",
       "<table border=\"1\" class=\"dataframe\">\n",
       "  <thead>\n",
       "    <tr style=\"text-align: right;\">\n",
       "      <th></th>\n",
       "      <th>SNP</th>\n",
       "      <th>Pred</th>\n",
       "      <th>PredClass</th>\n",
       "    </tr>\n",
       "  </thead>\n",
       "  <tbody>\n",
       "    <tr>\n",
       "      <th>0</th>\n",
       "      <td>rs7225123</td>\n",
       "      <td>0.933917</td>\n",
       "      <td>Selection</td>\n",
       "    </tr>\n",
       "    <tr>\n",
       "      <th>1</th>\n",
       "      <td>rs4890183</td>\n",
       "      <td>0.906652</td>\n",
       "      <td>Selection</td>\n",
       "    </tr>\n",
       "    <tr>\n",
       "      <th>2</th>\n",
       "      <td>rs1609550</td>\n",
       "      <td>0.694114</td>\n",
       "      <td>Selection</td>\n",
       "    </tr>\n",
       "    <tr>\n",
       "      <th>3</th>\n",
       "      <td>rs1109995</td>\n",
       "      <td>0.057465</td>\n",
       "      <td>Neutral</td>\n",
       "    </tr>\n",
       "  </tbody>\n",
       "</table>\n",
       "</div>"
      ],
      "text/plain": [
       "         SNP      Pred  PredClass\n",
       "0  rs7225123  0.933917  Selection\n",
       "1  rs4890183  0.906652  Selection\n",
       "2  rs1609550  0.694114  Selection\n",
       "3  rs1109995  0.057465    Neutral"
      ]
     },
     "execution_count": 7,
     "metadata": {},
     "output_type": "execute_result"
    }
   ],
   "source": [
    "results_ann_recent_1"
   ]
  },
  {
   "cell_type": "markdown",
   "metadata": {},
   "source": [
    "### 2. Create images and predict by using trained CNN model\n",
    "\n",
    "Next, we should create images to use trained CNN for prediction. Similarly, we can use `create_image()` function. It accepts following key arguments:\n",
    "\n",
    "* __N__: Length of the sequence (should be same as the simulated sequence length)\n",
    "* __sort__: Sorting algorithm. either:\n",
    "    * __gen_sim__: sorting based on genetic similarity\n",
    "    * __freq__: sorting based on frequency\n",
    "* __method__: sorting method. either:\n",
    "    * __t__: together. sorting whole individuals together\n",
    "    * __s__: seperate. sorting two haplotype groups seperately.\n",
    "* __target_freq__: A tuple specifying the frequency range for targets.\n",
    "* __target_list__: A list of target SNPs. If None, scans the target region for all candidate targets.\n",
    "* __target_range__: A tuple specifying the target range of positions. If None, scans all the positions.\n",
    "* __img_dim__: Image dimension (nrow, ncol)\n",
    "\n",
    "Again, it is important to perform the same preprocessing steps as used for training data."
   ]
  },
  {
   "cell_type": "code",
   "execution_count": 8,
   "metadata": {
    "scrolled": true
   },
   "outputs": [
    {
     "name": "stdout",
     "output_type": "stream",
     "text": [
      "4 candidate targets have been found.\n"
     ]
    }
   ],
   "source": [
    "im_matrix, snps = vcf.create_image(N=50000, sort=\"freq\", method=\"s\", target_freq=(0.4,0.6), \n",
    "                                   target_list=None, target_range=None, img_dim=(128,128))"
   ]
  },
  {
   "cell_type": "markdown",
   "metadata": {},
   "source": [
    "Now, we can use the same `predict()` function to perform prediction. However, this time, we will use trained CNN model:"
   ]
  },
  {
   "cell_type": "code",
   "execution_count": 9,
   "metadata": {},
   "outputs": [],
   "source": [
    "cnn_model = \"/Users/ulas/Projects/balancing_selection/Data/Model/CNN_model_recent_1.h5\"\n",
    "\n",
    "results_cnn_recent_1 = predict(im_matrix, cnn_model, labels=snps, test=1)"
   ]
  },
  {
   "cell_type": "code",
   "execution_count": 10,
   "metadata": {},
   "outputs": [
    {
     "data": {
      "text/html": [
       "<div>\n",
       "<style scoped>\n",
       "    .dataframe tbody tr th:only-of-type {\n",
       "        vertical-align: middle;\n",
       "    }\n",
       "\n",
       "    .dataframe tbody tr th {\n",
       "        vertical-align: top;\n",
       "    }\n",
       "\n",
       "    .dataframe thead th {\n",
       "        text-align: right;\n",
       "    }\n",
       "</style>\n",
       "<table border=\"1\" class=\"dataframe\">\n",
       "  <thead>\n",
       "    <tr style=\"text-align: right;\">\n",
       "      <th></th>\n",
       "      <th>SNP</th>\n",
       "      <th>Pred</th>\n",
       "      <th>PredClass</th>\n",
       "    </tr>\n",
       "  </thead>\n",
       "  <tbody>\n",
       "    <tr>\n",
       "      <th>0</th>\n",
       "      <td>rs7225123</td>\n",
       "      <td>0.997502</td>\n",
       "      <td>Selection</td>\n",
       "    </tr>\n",
       "    <tr>\n",
       "      <th>1</th>\n",
       "      <td>rs4890183</td>\n",
       "      <td>0.683404</td>\n",
       "      <td>Selection</td>\n",
       "    </tr>\n",
       "    <tr>\n",
       "      <th>2</th>\n",
       "      <td>rs1609550</td>\n",
       "      <td>0.860795</td>\n",
       "      <td>Selection</td>\n",
       "    </tr>\n",
       "    <tr>\n",
       "      <th>3</th>\n",
       "      <td>rs1109995</td>\n",
       "      <td>0.631900</td>\n",
       "      <td>Selection</td>\n",
       "    </tr>\n",
       "  </tbody>\n",
       "</table>\n",
       "</div>"
      ],
      "text/plain": [
       "         SNP      Pred  PredClass\n",
       "0  rs7225123  0.997502  Selection\n",
       "1  rs4890183  0.683404  Selection\n",
       "2  rs1609550  0.860795  Selection\n",
       "3  rs1109995  0.631900  Selection"
      ]
     },
     "execution_count": 10,
     "metadata": {},
     "output_type": "execute_result"
    }
   ],
   "source": [
    "results_cnn_recent_1"
   ]
  }
 ],
 "metadata": {
  "kernelspec": {
   "display_name": "bsenv",
   "language": "python",
   "name": "bsenv"
  },
  "language_info": {
   "codemirror_mode": {
    "name": "ipython",
    "version": 3
   },
   "file_extension": ".py",
   "mimetype": "text/x-python",
   "name": "python",
   "nbconvert_exporter": "python",
   "pygments_lexer": "ipython3",
   "version": "3.6.8"
  }
 },
 "nbformat": 4,
 "nbformat_minor": 2
}
