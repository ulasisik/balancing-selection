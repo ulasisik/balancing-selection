{
 "cells": [
  {
   "cell_type": "markdown",
   "metadata": {},
   "source": [
    "# Training regular Artifical Neural Network (ANN) based classifier"
   ]
  },
  {
   "cell_type": "markdown",
   "metadata": {},
   "source": [
    "This is a short tutorial explaining how to convert simulation outputs into summary statistics and use them to train ANN model.\n",
    "\n",
    "Content of this tutorial:\n",
    "1. Create summary statistics from simulation outputs\n",
    "2. Load and preprocess summary statistics\n",
    "3. Implement ANN\n",
    "4. Train and evaluate the model\n",
    "\n",
    "All the required functions are contained in BaSe module. So should first load BaSe and define required paths:"
   ]
  },
  {
   "cell_type": "code",
   "execution_count": 1,
   "metadata": {},
   "outputs": [
    {
     "name": "stderr",
     "output_type": "stream",
     "text": [
      "Using TensorFlow backend.\n"
     ]
    }
   ],
   "source": [
    "%run -i ../BaSe/Preprocess.py\n",
    "%run -i ../BaSe/Model.py"
   ]
  },
  {
   "cell_type": "markdown",
   "metadata": {},
   "source": [
    "Now, we define paths to directories in which simulation outputs, summary statistics and trained model will be stored:"
   ]
  },
  {
   "cell_type": "code",
   "execution_count": 2,
   "metadata": {},
   "outputs": [],
   "source": [
    "path_to_sim = '/Users/ulas/Projects/balancing_selection/Data/SimOuts/' # Directory where simulation outputs are stored\n",
    "path_to_stat = '/Users/ulas/Projects/balancing_selection/Data/Stats/' # Directory where summary statistics will be stored\n",
    "path_to_save = '/Users/ulas/Projects/balancing_selection/Data/Model/'   # Directory where trained model and data will be stored"
   ]
  },
  {
   "cell_type": "markdown",
   "metadata": {},
   "source": [
    "### 1. Create summary statistics"
   ]
  },
  {
   "cell_type": "markdown",
   "metadata": {},
   "source": [
    "In order to train ANN, we calculate 66 summary statistics for each simulation output. In this tutorial, we assume that simulations are performed for all classes. To learn how to run simulations, you can view `../Simulations/README.md`.\n",
    "\n",
    "__Importantly__, this function assumes that all the simulation outputs are in the same folder with the specific file names. Given the output folder in `../Simulations/Params.txt`, the scripts in `../Simulations` produce outputs with a specific naming pattern. However, if you modify the names of simulation output files, this function may not work as expected.\n",
    "\n",
    "`BaSe.Preprocess.sim_to_stats(path_to_sim, path_to_stat, clss, NCHROMS, SIM_FROM, SIM_TO, N, N_NE)` function reads simulation output files from `path_to_sim` folder, calculates summary statistics and saves it into an .csv file in `path_to_stat` folder. It accepts following arguments:\n",
    "\n",
    "* __path_to_sim (string)__: Path to directory where the simulation files exist\n",
    "* __path_to_stat (string)__: Path to directory where the summary statistics will be stored\n",
    "* __clss (string)__: Simulation class (either FD, OD, IS or NE):\n",
    "    * __NE__: Neutral\n",
    "    * __IS__: Incomplete sweep\n",
    "    * __OD__: Overdominance\n",
    "    * __FD__: Negative frequency dependent selection\n",
    "* __NCHROMS (int)__: Number of samples(haploid individuals, or chromosoms)\n",
    "* __SIM_FROM (int)__: Simulation number to include -starting from\n",
    "* __SIM_TO (int)__: Simulation number to include -until\n",
    "* __N (int)__: Length of the simulated sequence(bp) for selection scenarios\n",
    "* __N_NE (int)__: Length of simulated sequence(bp) for neutral scenario\n",
    "\n",
    "Following code will calculate summary statistics for 500 simulations from each class and different times of onset of selection:"
   ]
  },
  {
   "cell_type": "code",
   "execution_count": null,
   "metadata": {},
   "outputs": [],
   "source": [
    "for clss in [\"NE\", \"IS\", \"OD\", \"FD\"]:\n",
    "    sim_to_stats(path_to_sim, path_to_stat, clss, NCHROMS=198, SIM_FROM=1, SIM_TO=500, N=50000, N_NE=500000)"
   ]
  },
  {
   "cell_type": "markdown",
   "metadata": {},
   "source": [
    "This will create `clss.csv` (i.e., NE.csv, IS.csv, OD.csv, and FD.csv) files in specified directory. \n",
    "\n",
    "__Note__: For large number of samples, this may take some time. Therefore, rather than using for loop, it can be separetly run for different classes in parallel. It is important to note that, since we used 21 different times of onset of selection for selection scenarios, there will be 500x21=10,500 (500 samples for each 21 time of onset) samples for selection scenarios."
   ]
  },
  {
   "cell_type": "markdown",
   "metadata": {},
   "source": [
    "### 2. Load and preprocess summary statistics"
   ]
  },
  {
   "cell_type": "markdown",
   "metadata": {},
   "source": [
    "Summary statistics can be loaded and preprocessed by `SumStats` class. Required key arguments for initiation of the object:\n",
    "* __test__: Test number to be performed:\n",
    "    * __1__: Neutrality vs Selection(IS+OD+FD)\n",
    "    * __2__: Incomplete sweep vs Balancing selection(OD+FD)\n",
    "    * __3__: Overdominance vs Negative frequency dependent selection\n",
    "* __selection_category__: Specifies the time of onset of selection for selection scenarios. Possible bins:\n",
    "    * __recent__: Includes selection scenarios ranging from 20k to 26k years old.\n",
    "    * __medium__: Includes selection scenarios ranging from 27k to 33k years old.\n",
    "    * __old__: Includes selection scenarios ranging from 34k to 40k years old.\n",
    "* __N__: Number of samples that will be included per class"
   ]
  },
  {
   "cell_type": "code",
   "execution_count": 3,
   "metadata": {},
   "outputs": [],
   "source": [
    "test = 1\n",
    "selection_category = \"recent\"\n",
    "\n",
    "stats = SumStats(test=test, selection_category=selection_category, N=500)"
   ]
  },
  {
   "cell_type": "markdown",
   "metadata": {},
   "source": [
    "In this tutorial, we will try to distinguish between neutrality and selection (test 1) for a recent selection. Importantly, __N__ specifies the number of samples per class. Moreover, if the supplied value of `N` cannot be divided into equal number of samples from each class and time of selection onset, the closest `N` value will be used (i.e., largest value that can be divided into equal number of samples and not greater than the supplied `N` value).\n",
    "\n",
    "Now, to load and preprocess summary statistics, we can use `load_sumstats()` function. It accepts following key arguments:\n",
    "* __path_to_stat__: Path to directory where the summary statistics are stored\n",
    "* __val_size__: Float between 0 and 1 specifying proportion of data that will used for validation\n",
    "* __toshuggle__: If True, shuffles the data before splitting\n",
    "* __scale__: If True, performs feature scaling\n",
    "* __pca__: If True, performs pca\n",
    "* __verbose__: Specifies verbosity mode. If verbose > 0, prints number of samples"
   ]
  },
  {
   "cell_type": "code",
   "execution_count": 5,
   "metadata": {},
   "outputs": [
    {
     "name": "stdout",
     "output_type": "stream",
     "text": [
      "Times of onset of selection for selection scenarios: [20, 21, 22, 23, 24, 25, 26]\n",
      "Total sample sizes:\n",
      "Neutral: 483\n",
      "Selection: 483 = 161(IS) + 161(FD) + 161(OD) \n",
      "\n",
      "Sample sizes for each selection start time:\n",
      "FD for 20 k years old selection:  23\n",
      "FD for 21 k years old selection:  23\n",
      "FD for 22 k years old selection:  23\n",
      "FD for 23 k years old selection:  23\n",
      "FD for 24 k years old selection:  23\n",
      "FD for 25 k years old selection:  23\n",
      "FD for 26 k years old selection:  23\n",
      "IS for 20 k years old selection:  23\n",
      "IS for 21 k years old selection:  23\n",
      "IS for 22 k years old selection:  23\n",
      "IS for 23 k years old selection:  23\n",
      "IS for 24 k years old selection:  23\n",
      "IS for 25 k years old selection:  23\n",
      "IS for 26 k years old selection:  23\n",
      "OD for 20 k years old selection:  23\n",
      "OD for 21 k years old selection:  23\n",
      "OD for 22 k years old selection:  23\n",
      "OD for 23 k years old selection:  23\n",
      "OD for 24 k years old selection:  23\n",
      "OD for 25 k years old selection:  23\n",
      "OD for 26 k years old selection:  23\n"
     ]
    }
   ],
   "source": [
    "X_train, X_val, y_train, y_val = stats.load_sumstats(path_to_stat,  val_size=0.2, toshuffle=True, scale=True,\n",
    "                                                     pca=False, random_state=2, verbose=1)"
   ]
  },
  {
   "cell_type": "markdown",
   "metadata": {},
   "source": [
    "We can now save the training and validation data using `save()` function from numpy module:"
   ]
  },
  {
   "cell_type": "code",
   "execution_count": null,
   "metadata": {},
   "outputs": [],
   "source": [
    "import numpy as np\n",
    "\n",
    "np.save(\"{}ANN_X_train_{}_{}\".format(path_to_save, selection_category, test), X_train, allow_pickle=False)\n",
    "np.save(\"{}ANN_y_train_{}_{}\".format(path_to_save, selection_category, test), y_train, allow_pickle=False)\n",
    "np.save(\"{}ANN_X_val_{}_{}\".format(path_to_save, selection_category, test), X_val, allow_pickle=False)\n",
    "np.save(\"{}ANN_y_val_{}_{}\".format(path_to_save, selection_category, test), y_val, allow_pickle=False)"
   ]
  },
  {
   "cell_type": "markdown",
   "metadata": {},
   "source": [
    "### 3. Implement ANN"
   ]
  },
  {
   "cell_type": "markdown",
   "metadata": {},
   "source": [
    "Having training and validation data, we can build our model. BaSe module includes pre-compiled models whose parameters are optimized for each test separetly. Therefore, you can either load these models or implement a custum one.\n",
    "\n",
    "#### a. Load model\n",
    "Pre-compiled and optimized models can be loaded using `LoadANN(test)` by specifiying the test number:"
   ]
  },
  {
   "cell_type": "code",
   "execution_count": 6,
   "metadata": {},
   "outputs": [],
   "source": [
    "mymodel = LoadANN(test)"
   ]
  },
  {
   "cell_type": "markdown",
   "metadata": {},
   "source": [
    "#### b. Implement custom model\n",
    "You can implement a custom model by using `MakeANN(input_shape, lr, units, l2_regularizer, dropout, lr_dec, initializer)`. For example, using the following code, we can create an ANN model having 3 fully connected layer (each contains 20 units), learning rate of 0.001, dropout rate of 0.5, and l2 weight decay of 0.005. It is also important to note that we use input_shape of 66 since we have 66 summary statistics (i.e. features) for each simulation."
   ]
  },
  {
   "cell_type": "code",
   "execution_count": null,
   "metadata": {},
   "outputs": [],
   "source": [
    "# mymodel = MakeANN(input_shape=66, lr=0.001, units=[20,20,20], dropout=0.5, lr_dec=0.0001, initializer=\"uniform\")"
   ]
  },
  {
   "cell_type": "markdown",
   "metadata": {},
   "source": [
    "Still, if you want to use a different model that cannot be created using `MakeANN` (e.g. different optimizer, or more complex structure), you can use `MakeModel(model)`. Here, the input can be any compiled keras model."
   ]
  },
  {
   "cell_type": "code",
   "execution_count": 7,
   "metadata": {},
   "outputs": [],
   "source": [
    "# mymodel = MakeModel(model)"
   ]
  },
  {
   "cell_type": "markdown",
   "metadata": {},
   "source": [
    "Nevertheless, we will use the optimized and pre-compiled model in this tutorial. After loading the model, you can use `summary()` function to obtain an overview of the model:"
   ]
  },
  {
   "cell_type": "code",
   "execution_count": 8,
   "metadata": {},
   "outputs": [
    {
     "name": "stdout",
     "output_type": "stream",
     "text": [
      "_________________________________________________________________\n",
      "Layer (type)                 Output Shape              Param #   \n",
      "=================================================================\n",
      "input_1 (InputLayer)         (None, 66)                0         \n",
      "_________________________________________________________________\n",
      "dense_1 (Dense)              (None, 20)                1340      \n",
      "_________________________________________________________________\n",
      "batch_normalization_1 (Batch (None, 20)                80        \n",
      "_________________________________________________________________\n",
      "activation_1 (Activation)    (None, 20)                0         \n",
      "_________________________________________________________________\n",
      "dropout_1 (Dropout)          (None, 20)                0         \n",
      "_________________________________________________________________\n",
      "dense_2 (Dense)              (None, 20)                420       \n",
      "_________________________________________________________________\n",
      "batch_normalization_2 (Batch (None, 20)                80        \n",
      "_________________________________________________________________\n",
      "activation_2 (Activation)    (None, 20)                0         \n",
      "_________________________________________________________________\n",
      "dropout_2 (Dropout)          (None, 20)                0         \n",
      "_________________________________________________________________\n",
      "dense_3 (Dense)              (None, 10)                210       \n",
      "_________________________________________________________________\n",
      "batch_normalization_3 (Batch (None, 10)                40        \n",
      "_________________________________________________________________\n",
      "activation_3 (Activation)    (None, 10)                0         \n",
      "_________________________________________________________________\n",
      "dropout_3 (Dropout)          (None, 10)                0         \n",
      "_________________________________________________________________\n",
      "dense_4 (Dense)              (None, 1)                 11        \n",
      "=================================================================\n",
      "Total params: 2,181\n",
      "Trainable params: 2,081\n",
      "Non-trainable params: 100\n",
      "_________________________________________________________________\n"
     ]
    }
   ],
   "source": [
    "mymodel.summary()"
   ]
  },
  {
   "cell_type": "markdown",
   "metadata": {},
   "source": [
    "### 4. Train and evaluate the model"
   ]
  },
  {
   "cell_type": "markdown",
   "metadata": {},
   "source": [
    "Having both data and model, we are ready to train the model. To do so, we can use `fit_model()` function:"
   ]
  },
  {
   "cell_type": "code",
   "execution_count": 9,
   "metadata": {},
   "outputs": [
    {
     "name": "stdout",
     "output_type": "stream",
     "text": [
      "Train on 772 samples, validate on 194 samples\n",
      "Epoch 1/5\n",
      " - 1s - loss: 0.7675 - acc: 0.5596 - val_loss: 0.4476 - val_acc: 0.9021\n",
      "Epoch 2/5\n",
      " - 0s - loss: 0.6353 - acc: 0.6399 - val_loss: 0.3544 - val_acc: 0.9330\n",
      "Epoch 3/5\n",
      " - 0s - loss: 0.5112 - acc: 0.7435 - val_loss: 0.2778 - val_acc: 0.9691\n",
      "Epoch 4/5\n",
      " - 0s - loss: 0.4931 - acc: 0.7642 - val_loss: 0.2251 - val_acc: 0.9691\n",
      "Epoch 5/5\n",
      " - 0s - loss: 0.4108 - acc: 0.8290 - val_loss: 0.1988 - val_acc: 0.9742\n"
     ]
    }
   ],
   "source": [
    "mymodel.fit_model(X_train, y_train, batch_size=32, epoch=5, validation_data=(X_val, y_val), verbose=2)"
   ]
  },
  {
   "cell_type": "markdown",
   "metadata": {},
   "source": [
    "After the training is completed, we can access the training history as follows:"
   ]
  },
  {
   "cell_type": "code",
   "execution_count": null,
   "metadata": {},
   "outputs": [],
   "source": [
    "# print(mymodel.train_loss)  # Prints training loss\n",
    "# print(mymodel.train_acc)   # Prints training accuracy\n",
    "# print(mymodel.val_loss)    # Prints validation loss\n",
    "# print(mymodel.val_acc)     # Prints validation accuracy"
   ]
  },
  {
   "cell_type": "markdown",
   "metadata": {},
   "source": [
    "Using `vis_acc_loss()` we can plot the training history:"
   ]
  },
  {
   "cell_type": "code",
   "execution_count": 10,
   "metadata": {},
   "outputs": [
    {
     "data": {
      "image/png": "[encoded data removed]",
      "text/plain": [
       "<Figure size 432x288 with 2 Axes>"
      ]
     },
     "metadata": {
      "needs_background": "light"
     },
     "output_type": "display_data"
    }
   ],
   "source": [
    "mymodel.vis_acc_loss()"
   ]
  },
  {
   "cell_type": "markdown",
   "metadata": {},
   "source": [
    "We can also plot the confusion matrix using validation data:"
   ]
  },
  {
   "cell_type": "code",
   "execution_count": 11,
   "metadata": {},
   "outputs": [
    {
     "name": "stdout",
     "output_type": "stream",
     "text": [
      "194/194 [==============================] - 0s 45us/step\n"
     ]
    },
    {
     "data": {
      "image/png": "[encoded data removed]",
      "text/plain": [
       "<Figure size 640x480 with 2 Axes>"
      ]
     },
     "metadata": {},
     "output_type": "display_data"
    }
   ],
   "source": [
    "mymodel.vis_cm(X_val, y_val, stats.classes)"
   ]
  },
  {
   "cell_type": "markdown",
   "metadata": {},
   "source": [
    "Lastly, in order to use this trained model in the testing on real data, we should save it:"
   ]
  },
  {
   "cell_type": "code",
   "execution_count": null,
   "metadata": {},
   "outputs": [],
   "source": [
    "mymodel.save_model(\"{}ANN_model_{}_{}.h5\".format(path_to_save, selection_category, test))"
   ]
  }
 ],
 "metadata": {
  "kernelspec": {
   "display_name": "bsenv",
   "language": "python",
   "name": "bsenv"
  },
  "language_info": {
   "codemirror_mode": {
    "name": "ipython",
    "version": 3
   },
   "file_extension": ".py",
   "mimetype": "text/x-python",
   "name": "python",
   "nbconvert_exporter": "python",
   "pygments_lexer": "ipython3",
   "version": "3.6.8"
  }
 },
 "nbformat": 4,
 "nbformat_minor": 2
}
