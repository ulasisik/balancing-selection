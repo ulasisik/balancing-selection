{
 "cells": [
  {
   "cell_type": "markdown",
   "metadata": {},
   "source": [
    "# Training regular Convolutional Neural Network (CNN) based classifier"
   ]
  },
  {
   "cell_type": "markdown",
   "metadata": {},
   "source": [
    "This is a short tutorial explaining how to convert simulation outputs into images and use them to train CNN model.\n",
    "\n",
    "Content of this tutorial:\n",
    "1. Create images from simulation outputs\n",
    "2. Load and preprocess images\n",
    "3. Implement CNN\n",
    "4. Train and evaluate the model\n",
    "\n",
    "All the required functions are contained in BaSe module. So should first load BaSe:"
   ]
  },
  {
   "cell_type": "code",
   "execution_count": 2,
   "metadata": {},
   "outputs": [],
   "source": [
    "%run -i ../BaSe/Preprocess.py\n",
    "%run -i ../BaSe/Model.py"
   ]
  },
  {
   "cell_type": "markdown",
   "metadata": {},
   "source": [
    "Now, we define paths to directories in which simulation outputs, images and trained model will be stored:"
   ]
  },
  {
   "cell_type": "code",
   "execution_count": 3,
   "metadata": {},
   "outputs": [],
   "source": [
    "path_to_sim = '/Users/ulas/Projects/balancing_selection/Data/SimOuts/' # Directory where simulation outputs are stored\n",
    "path_to_image = '/Users/ulas/Projects/balancing_selection/Data/Images/' # Directory where images will be stored\n",
    "path_to_save = '/Users/ulas/Projects/balancing_selection/Data/Model/'   # Directory where trained model and data will be stored"
   ]
  },
  {
   "cell_type": "markdown",
   "metadata": {},
   "source": [
    "### 1. Create images\n",
    "In order to train CNN, we should create images from simulations. In this tutorial, we assume that simulations are performed and ready. To learn how to run simulations, you can view `../Simulations/README.md`. \n",
    "\n",
    "__Importantly__, this function assumes that all the simulation outputs are in the same folder with the specific file names. Given the output folder in `../Simulations/Params.txt`, the scripts in `../Simulations` produce outputs with a specific naming pattern. However, if you modify the names of simulation output files, this function may not work as expected.\n",
    "\n",
    "To convert simulations into images, we can use `sim_to_image(path_to_sim, path_to_image, clss, SIM_FROM, SIM_TO, NCHROMS, N, N_NE, img_dim, sort, method)` function. It accepts following arguments:\n",
    "\n",
    "* __path_to_sim__: Path to directory where the simulation files exist\n",
    "* __path_to_image__: Path to directory where the images will be stored\n",
    "* __clss__: A tuple of target simulation classes:\n",
    "    * __NE__: Neutral\n",
    "    * __IS__: Incomplete sweep\n",
    "    * __OD__: Overdominance\n",
    "    * __FD__: Negative frequency dependent selection\n",
    "* __SIM_FROM__: Simulation number to include -starting from\n",
    "* __SIM_TO__: Simulation number to include -until\n",
    "* __N__: Length of the simulated sequence(bp) for selection scenarios\n",
    "* __N_NE__: Length of simulated sequence(bp) for neutral scenario\n",
    "* __NCHROMS__: Number of samples(haploid individuals, or chromosoms)\n",
    "* __img_dim__: Image dimensions (nrow, ncol)\n",
    "* __sort__: Sorting algorithm. either:\n",
    "    * __gen_sim__: sorting based on genetic similarity\n",
    "    * __freq__: sorting based on frequency\n",
    "* __method__: sorting method. either:\n",
    "    * __t__: together. sorting whole individuals together\n",
    "    * __s__: seperate. sorting two haplotype groups seperately.\n",
    "    \n",
    "Here, we can choose one of the different sorting algoritms and methods. This function also allows to resize image for given dimensions."
   ]
  },
  {
   "cell_type": "code",
   "execution_count": null,
   "metadata": {},
   "outputs": [],
   "source": [
    "sim_to_image(path_to_sim, path_to_image, clss=(\"NE\", \"IS\", \"OD\", \"FD\"), SIM_FROM=1, SIM_TO=500, NCHROMS=198, \n",
    "             N=50000, N_NE=500000, img_dim=(128,128), sort=\"freq\", method=\"t\")"
   ]
  },
  {
   "cell_type": "markdown",
   "metadata": {},
   "source": [
    "This will create 500 images for each class and time of selection onset."
   ]
  },
  {
   "cell_type": "markdown",
   "metadata": {},
   "source": [
    "### 2. Load and preprocess images\n",
    "\n",
    "Images can be loaded and preprocessed by `Images` class. Required key arguments for initiation of the object:\n",
    "* __test__: Test number to be performed:\n",
    "    * __1__: Neutrality vs Selection(IS+OD+FD)\n",
    "    * __2__: Incomplete sweep vs Balancing selection(OD+FD)\n",
    "    * __3__: Overdominance vs Negative frequency dependent selection\n",
    "* __selection_category__: Specifies the time of onset of selection for selection scenarios. Possible bins:\n",
    "    * __recent__: Includes selection scenarios ranging from 20k to 26k years old.\n",
    "    * __medium__: Includes selection scenarios ranging from 27k to 33k years old.\n",
    "    * __old__: Includes selection scenarios ranging from 34k to 40k years old.\n",
    "* __N__: Number of samples that will be included per class\n",
    "* __img_dim__: Dimensions of the images (nrow, ncol)"
   ]
  },
  {
   "cell_type": "code",
   "execution_count": 4,
   "metadata": {},
   "outputs": [],
   "source": [
    "test = 1                         # We will perform test 1: neutrality vs selection\n",
    "selection_category = \"recent\"    # Recent selection category\n",
    "image_size = (128,128)          \n",
    "\n",
    "images = Images(test, selection_category, N=500, img_dim=image_size)"
   ]
  },
  {
   "cell_type": "markdown",
   "metadata": {},
   "source": [
    "Importantly, if the supplied value of `N` cannot be divided into equal number of samples from each class and time of selection onset, the closest `N` value will be used (i.e., largest value that can be divided into equal number of samples and not greater than the supplied `N` value).\n",
    "\n",
    "Now, to load and preprocess images, we can use `load_images()` function. It accepts following key arguments:\n",
    "* __path_to_image__: Path to directory where the images are stored\n",
    "* __val_size__: Float between 0 and 1 specifying proportion of data that will used for validation\n",
    "* __toshuggle__: If True, shuffles the data before splitting"
   ]
  },
  {
   "cell_type": "code",
   "execution_count": 5,
   "metadata": {},
   "outputs": [
    {
     "name": "stdout",
     "output_type": "stream",
     "text": [
      "Times of onset of selection for selection scenarios: [20, 21, 22, 23, 24, 25, 26]\n",
      "Total sample sizes:\n",
      "Neutral: 483\n",
      "Selection: 483 = 161(IS) + 161(FD) + 161(OD) \n",
      "\n",
      "Sample sizes for each selection start time:\n",
      "FD for 20 k years old selection:  23\n",
      "FD for 21 k years old selection:  23\n",
      "FD for 22 k years old selection:  23\n",
      "FD for 23 k years old selection:  23\n",
      "FD for 24 k years old selection:  23\n",
      "FD for 25 k years old selection:  23\n",
      "FD for 26 k years old selection:  23\n",
      "IS for 20 k years old selection:  23\n",
      "IS for 21 k years old selection:  23\n",
      "IS for 22 k years old selection:  23\n",
      "IS for 23 k years old selection:  23\n",
      "IS for 24 k years old selection:  23\n",
      "IS for 25 k years old selection:  23\n",
      "IS for 26 k years old selection:  23\n",
      "OD for 20 k years old selection:  23\n",
      "OD for 21 k years old selection:  23\n",
      "OD for 22 k years old selection:  23\n",
      "OD for 23 k years old selection:  23\n",
      "OD for 24 k years old selection:  23\n",
      "OD for 25 k years old selection:  23\n",
      "OD for 26 k years old selection:  23\n"
     ]
    }
   ],
   "source": [
    "X_train, X_val, y_train, y_val = images.load_images(path_to_image, val_size=0.2, toshuffle=True, \n",
    "                                                    random_state=2, verbose=1)"
   ]
  },
  {
   "cell_type": "markdown",
   "metadata": {},
   "source": [
    "We can now save the training and validation data using `save()` function from numpy module:"
   ]
  },
  {
   "cell_type": "code",
   "execution_count": null,
   "metadata": {},
   "outputs": [],
   "source": [
    "import numpy as np\n",
    "\n",
    "np.save(\"{}CNN_X_train_{}_{}\".format(path_to_save, selection_category, test), X_train, allow_pickle=False)\n",
    "np.save(\"{}CNN_y_train_{}_{}\".format(path_to_save, selection_category, test), y_train, allow_pickle=False)\n",
    "np.save(\"{}CNN_X_val_{}_{}\".format(path_to_save, selection_category, test), X_val, allow_pickle=False)\n",
    "np.save(\"{}CNN_y_val_{}_{}\".format(path_to_save, selection_category, test), y_val, allow_pickle=False)"
   ]
  },
  {
   "cell_type": "markdown",
   "metadata": {},
   "source": [
    "### 3. Implement CNN"
   ]
  },
  {
   "cell_type": "markdown",
   "metadata": {},
   "source": [
    "Having training and validation data, we can build our model. BaSe module includes pre-compiled models whose parameters are optimized for each test separetly. Therefore, you can either load these models or implement a custum one.\n",
    "\n",
    "#### a. Load model\n",
    "Pre-compiled and optimized models can be loaded using `LoadCNN(test)` by specifiying the test number and image dimensions:"
   ]
  },
  {
   "cell_type": "code",
   "execution_count": 6,
   "metadata": {},
   "outputs": [],
   "source": [
    "mymodel = LoadCNN(test, img_dim=image_size)"
   ]
  },
  {
   "cell_type": "markdown",
   "metadata": {},
   "source": [
    "#### b. Implement custom model\n",
    "Alternatively, you can implement a custom model by using `MakeCNN()`:"
   ]
  },
  {
   "cell_type": "code",
   "execution_count": null,
   "metadata": {},
   "outputs": [],
   "source": [
    "# mymodel = MakeCNN(input_shape=(128,128), lr=0.0005, lr_dec=0.00001, filters=[32,32,32], kernel_size=3, \n",
    "#                   pooling_size=2, l2_regularizer=0.005, units_fc=[128], batch_norm = True,\n",
    "#                  dropout_conv=0.5, dropout_fc=0.5, initializer='uniform', strides=(1,1), padding='same')"
   ]
  },
  {
   "cell_type": "markdown",
   "metadata": {},
   "source": [
    "The above example code will create a CNN model with 3 conv layers (each having 32 filters) and one fully connected layer with 128 units. Still, if you want to use a different model that cannot be created using `MakeCNN` (e.g. different optimizer, or more complex structure), you can use `mymodel = MakeModel(model)`. Here, input can be any compiled keras model.\n",
    "\n",
    "Nevertheless, we will use optimized and pre-compiled models in this tutorial. After loading the model, you can use `summary()` function to obtain an overview of the model:"
   ]
  },
  {
   "cell_type": "code",
   "execution_count": 7,
   "metadata": {},
   "outputs": [
    {
     "name": "stdout",
     "output_type": "stream",
     "text": [
      "_________________________________________________________________\n",
      "Layer (type)                 Output Shape              Param #   \n",
      "=================================================================\n",
      "input_1 (InputLayer)         (None, 128, 128, 1)       0         \n",
      "_________________________________________________________________\n",
      "conv2d_1 (Conv2D)            (None, 128, 128, 32)      320       \n",
      "_________________________________________________________________\n",
      "batch_normalization_1 (Batch (None, 128, 128, 32)      128       \n",
      "_________________________________________________________________\n",
      "activation_1 (Activation)    (None, 128, 128, 32)      0         \n",
      "_________________________________________________________________\n",
      "max_pooling2d_1 (MaxPooling2 (None, 64, 64, 32)        0         \n",
      "_________________________________________________________________\n",
      "conv2d_2 (Conv2D)            (None, 64, 64, 32)        9248      \n",
      "_________________________________________________________________\n",
      "batch_normalization_2 (Batch (None, 64, 64, 32)        128       \n",
      "_________________________________________________________________\n",
      "activation_2 (Activation)    (None, 64, 64, 32)        0         \n",
      "_________________________________________________________________\n",
      "max_pooling2d_2 (MaxPooling2 (None, 32, 32, 32)        0         \n",
      "_________________________________________________________________\n",
      "dropout_1 (Dropout)          (None, 32, 32, 32)        0         \n",
      "_________________________________________________________________\n",
      "conv2d_3 (Conv2D)            (None, 32, 32, 32)        9248      \n",
      "_________________________________________________________________\n",
      "batch_normalization_3 (Batch (None, 32, 32, 32)        128       \n",
      "_________________________________________________________________\n",
      "activation_3 (Activation)    (None, 32, 32, 32)        0         \n",
      "_________________________________________________________________\n",
      "dropout_2 (Dropout)          (None, 32, 32, 32)        0         \n",
      "_________________________________________________________________\n",
      "flatten_1 (Flatten)          (None, 32768)             0         \n",
      "_________________________________________________________________\n",
      "dense_1 (Dense)              (None, 128)               4194432   \n",
      "_________________________________________________________________\n",
      "activation_4 (Activation)    (None, 128)               0         \n",
      "_________________________________________________________________\n",
      "dense_2 (Dense)              (None, 1)                 129       \n",
      "=================================================================\n",
      "Total params: 4,213,761\n",
      "Trainable params: 4,213,569\n",
      "Non-trainable params: 192\n",
      "_________________________________________________________________\n"
     ]
    }
   ],
   "source": [
    "mymodel.summary()"
   ]
  },
  {
   "cell_type": "markdown",
   "metadata": {},
   "source": [
    "### 4. Train and evaluate the model\n",
    "\n",
    "Having both data and model, we are ready to train the model. To do so, we can use `fit_model()` function:"
   ]
  },
  {
   "cell_type": "code",
   "execution_count": 8,
   "metadata": {},
   "outputs": [
    {
     "name": "stdout",
     "output_type": "stream",
     "text": [
      "Train on 772 samples, validate on 194 samples\n",
      "Epoch 1/5\n",
      " - 99s - loss: 19.0468 - acc: 0.5363 - val_loss: 17.9694 - val_acc: 0.7629\n",
      "Epoch 2/5\n",
      " - 104s - loss: 18.4918 - acc: 0.6244 - val_loss: 17.7182 - val_acc: 0.8351\n",
      "Epoch 3/5\n",
      " - 103s - loss: 18.0899 - acc: 0.6943 - val_loss: 17.5315 - val_acc: 0.8814\n",
      "Epoch 4/5\n",
      " - 103s - loss: 17.7395 - acc: 0.7552 - val_loss: 17.3373 - val_acc: 0.9021\n",
      "Epoch 5/5\n",
      " - 102s - loss: 17.5484 - acc: 0.8005 - val_loss: 17.1789 - val_acc: 0.9021\n"
     ]
    }
   ],
   "source": [
    "mymodel.fit_model(X_train, y_train, batch_size=32, epoch=5, aug=False, validation_data=(X_val, y_val), verbose=2)"
   ]
  },
  {
   "cell_type": "markdown",
   "metadata": {},
   "source": [
    "If `aug=True`, performs augmentation by randomly flipping images horizontally. After the training is completed, we can access training history:"
   ]
  },
  {
   "cell_type": "code",
   "execution_count": null,
   "metadata": {},
   "outputs": [],
   "source": [
    "# print(mymodel.train_loss)  # Prints training loss\n",
    "# print(mymodel.train_acc)   # Prints training accuracy\n",
    "# print(mymodel.val_loss)    # Prints validation loss\n",
    "# print(mymodel.val_acc)     # Prints validation accuracy"
   ]
  },
  {
   "cell_type": "markdown",
   "metadata": {},
   "source": [
    "Using `vis_acc_loss()` we can visualize the training history:"
   ]
  },
  {
   "cell_type": "code",
   "execution_count": 9,
   "metadata": {},
   "outputs": [
    {
     "data": {
      "image/png": "[encoded data removed]",
      "text/plain": [
       "<Figure size 432x288 with 2 Axes>"
      ]
     },
     "metadata": {
      "needs_background": "light"
     },
     "output_type": "display_data"
    }
   ],
   "source": [
    "mymodel.vis_acc_loss()"
   ]
  },
  {
   "cell_type": "markdown",
   "metadata": {},
   "source": [
    "We can also plot the confusion matrix using validation data:"
   ]
  },
  {
   "cell_type": "code",
   "execution_count": 10,
   "metadata": {},
   "outputs": [
    {
     "name": "stdout",
     "output_type": "stream",
     "text": [
      "194/194 [==============================] - 5s 25ms/step\n"
     ]
    },
    {
     "data": {
      "image/png": "[encoded data removed]",
      "text/plain": [
       "<Figure size 640x480 with 2 Axes>"
      ]
     },
     "metadata": {},
     "output_type": "display_data"
    }
   ],
   "source": [
    "mymodel.vis_cm(X_val, y_val, images.classes)"
   ]
  },
  {
   "cell_type": "markdown",
   "metadata": {},
   "source": [
    "Lastly, in order to use this trained model in the testing on real data, we should save it:"
   ]
  },
  {
   "cell_type": "code",
   "execution_count": null,
   "metadata": {},
   "outputs": [],
   "source": [
    "mymodel.save_model(\"{}CNN_model_{}_{}.h5\".format(path_to_save, selection_category, test))"
   ]
  }
 ],
 "metadata": {
  "kernelspec": {
   "display_name": "bsenv",
   "language": "python",
   "name": "bsenv"
  },
  "language_info": {
   "codemirror_mode": {
    "name": "ipython",
    "version": 3
   },
   "file_extension": ".py",
   "mimetype": "text/x-python",
   "name": "python",
   "nbconvert_exporter": "python",
   "pygments_lexer": "ipython3",
   "version": "3.6.8"
  }
 },
 "nbformat": 4,
 "nbformat_minor": 2
}
